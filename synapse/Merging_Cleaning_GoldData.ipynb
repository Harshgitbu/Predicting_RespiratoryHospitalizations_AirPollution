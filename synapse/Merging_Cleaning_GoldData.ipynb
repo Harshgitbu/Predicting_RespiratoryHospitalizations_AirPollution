{
  "nbformat": 4,
  "nbformat_minor": 2,
  "metadata": {
    "language_info": {
      "name": "python"
    },
    "kernelspec": {
      "name": "synapse_pyspark",
      "display_name": "python"
    },
    "description": "Cleaned gold data and combined it for boston and houston specific so that it can be used for the final modeling",
    "save_output": true,
    "synapse_widget": {
      "version": "0.1",
      "state": {}
    }
  },
  "cells": [
    {
      "cell_type": "code",
      "execution_count": 1,
      "outputs": [
        {
          "output_type": "stream",
          "name": "stdout",
          "text": [
            "Requirement already satisfied: pyarrow in /Library/Frameworks/Python.framework/Versions/3.12/lib/python3.12/site-packages (19.0.1)\n\n\u001b[1m[\u001b[0m\u001b[34;49mnotice\u001b[0m\u001b[1;39;49m]\u001b[0m\u001b[39;49m A new release of pip is available: \u001b[0m\u001b[31;49m24.2\u001b[0m\u001b[39;49m -> \u001b[0m\u001b[32;49m25.0.1\u001b[0m\n\u001b[1m[\u001b[0m\u001b[34;49mnotice\u001b[0m\u001b[1;39;49m]\u001b[0m\u001b[39;49m To update, run: \u001b[0m\u001b[32;49mpip3 install --upgrade pip\u001b[0m\nNote: you may need to restart the kernel to use updated packages.\nRequirement already satisfied: fastparquet in /Library/Frameworks/Python.framework/Versions/3.12/lib/python3.12/site-packages (2024.11.0)\nRequirement already satisfied: pandas>=1.5.0 in /Library/Frameworks/Python.framework/Versions/3.12/lib/python3.12/site-packages (from fastparquet) (2.2.3)\nRequirement already satisfied: numpy in /Library/Frameworks/Python.framework/Versions/3.12/lib/python3.12/site-packages (from fastparquet) (2.1.1)\nRequirement already satisfied: cramjam>=2.3 in /Library/Frameworks/Python.framework/Versions/3.12/lib/python3.12/site-packages (from fastparquet) (2.9.1)\nRequirement already satisfied: fsspec in /Library/Frameworks/Python.framework/Versions/3.12/lib/python3.12/site-packages (from fastparquet) (2025.3.2)\nRequirement already satisfied: packaging in /Users/harshshah/Library/Python/3.12/lib/python/site-packages (from fastparquet) (24.1)\nRequirement already satisfied: python-dateutil>=2.8.2 in /Users/harshshah/Library/Python/3.12/lib/python/site-packages (from pandas>=1.5.0->fastparquet) (2.9.0.post0)\nRequirement already satisfied: pytz>=2020.1 in /Library/Frameworks/Python.framework/Versions/3.12/lib/python3.12/site-packages (from pandas>=1.5.0->fastparquet) (2024.2)\nRequirement already satisfied: tzdata>=2022.7 in /Library/Frameworks/Python.framework/Versions/3.12/lib/python3.12/site-packages (from pandas>=1.5.0->fastparquet) (2024.2)\nRequirement already satisfied: six>=1.5 in /Users/harshshah/Library/Python/3.12/lib/python/site-packages (from python-dateutil>=2.8.2->pandas>=1.5.0->fastparquet) (1.16.0)\n\n\u001b[1m[\u001b[0m\u001b[34;49mnotice\u001b[0m\u001b[1;39;49m]\u001b[0m\u001b[39;49m A new release of pip is available: \u001b[0m\u001b[31;49m24.2\u001b[0m\u001b[39;49m -> \u001b[0m\u001b[32;49m25.0.1\u001b[0m\n\u001b[1m[\u001b[0m\u001b[34;49mnotice\u001b[0m\u001b[1;39;49m]\u001b[0m\u001b[39;49m To update, run: \u001b[0m\u001b[32;49mpip3 install --upgrade pip\u001b[0m\nNote: you may need to restart the kernel to use updated packages.\n"
          ]
        }
      ],
      "metadata": {},
      "source": [
        "%pip install pyarrow\n",
        "# or\n",
        "%pip install fastparquet"
      ]
    },
    {
      "cell_type": "code",
      "execution_count": 2,
      "outputs": [],
      "metadata": {},
      "source": [
        "import pandas as pd"
      ]
    },
    {
      "cell_type": "code",
      "execution_count": 4,
      "outputs": [
        {
          "output_type": "execute_result",
          "data": {
            "text/html": "<div>\n<style scoped>\n    .dataframe tbody tr th:only-of-type {\n        vertical-align: middle;\n    }\n\n    .dataframe tbody tr th {\n        vertical-align: top;\n    }\n\n    .dataframe thead th {\n        text-align: right;\n    }\n</style>\n<table border=\"1\" class=\"dataframe\">\n  <thead>\n    <tr style=\"text-align: right;\">\n      <th></th>\n      <th>date</th>\n      <th>avg_us_aqi</th>\n    </tr>\n  </thead>\n  <tbody>\n    <tr>\n      <th>0</th>\n      <td>2023-05-01</td>\n      <td>113.0</td>\n    </tr>\n    <tr>\n      <th>1</th>\n      <td>2023-05-18</td>\n      <td>141.0</td>\n    </tr>\n    <tr>\n      <th>2</th>\n      <td>2024-01-19</td>\n      <td>51.0</td>\n    </tr>\n    <tr>\n      <th>3</th>\n      <td>2024-07-14</td>\n      <td>126.0</td>\n    </tr>\n    <tr>\n      <th>4</th>\n      <td>2024-08-20</td>\n      <td>50.0</td>\n    </tr>\n  </tbody>\n</table>\n</div>",
            "text/plain": "         date  avg_us_aqi\n0  2023-05-01       113.0\n1  2023-05-18       141.0\n2  2024-01-19        51.0\n3  2024-07-14       126.0\n4  2024-08-20        50.0"
          },
          "execution_count": 4,
          "metadata": {}
        }
      ],
      "metadata": {},
      "source": [
        "b_aqi = pd.read_parquet('aggbostonaqi.snappy.parquet')\n",
        "b_aqi.head()"
      ]
    },
    {
      "cell_type": "code",
      "execution_count": 5,
      "outputs": [
        {
          "output_type": "execute_result",
          "data": {
            "text/html": "<div>\n<style scoped>\n    .dataframe tbody tr th:only-of-type {\n        vertical-align: middle;\n    }\n\n    .dataframe tbody tr th {\n        vertical-align: top;\n    }\n\n    .dataframe thead th {\n        text-align: right;\n    }\n</style>\n<table border=\"1\" class=\"dataframe\">\n  <thead>\n    <tr style=\"text-align: right;\">\n      <th></th>\n      <th>date</th>\n      <th>high_pollution_events</th>\n    </tr>\n  </thead>\n  <tbody>\n    <tr>\n      <th>0</th>\n      <td>2023-05-01</td>\n      <td>13</td>\n    </tr>\n    <tr>\n      <th>1</th>\n      <td>2023-05-18</td>\n      <td>18</td>\n    </tr>\n    <tr>\n      <th>2</th>\n      <td>2024-01-19</td>\n      <td>0</td>\n    </tr>\n    <tr>\n      <th>3</th>\n      <td>2024-07-14</td>\n      <td>13</td>\n    </tr>\n    <tr>\n      <th>4</th>\n      <td>2024-08-20</td>\n      <td>3</td>\n    </tr>\n  </tbody>\n</table>\n</div>",
            "text/plain": "         date  high_pollution_events\n0  2023-05-01                     13\n1  2023-05-18                     18\n2  2024-01-19                      0\n3  2024-07-14                     13\n4  2024-08-20                      3"
          },
          "execution_count": 5,
          "metadata": {}
        }
      ],
      "metadata": {},
      "source": [
        "b_h_pol_events = pd.read_parquet('aggbostonhighpollutionevents.snappy.parquet')\n",
        "b_h_pol_events.head()"
      ]
    },
    {
      "cell_type": "code",
      "execution_count": 6,
      "outputs": [
        {
          "output_type": "execute_result",
          "data": {
            "text/html": "<div>\n<style scoped>\n    .dataframe tbody tr th:only-of-type {\n        vertical-align: middle;\n    }\n\n    .dataframe tbody tr th {\n        vertical-align: top;\n    }\n\n    .dataframe thead th {\n        text-align: right;\n    }\n</style>\n<table border=\"1\" class=\"dataframe\">\n  <thead>\n    <tr style=\"text-align: right;\">\n      <th></th>\n      <th>Location</th>\n      <th>ed_trends_covid</th>\n      <th>ed_trends_influenza</th>\n      <th>ed_trends_rsv</th>\n      <th>week_end</th>\n      <th>total_visits_covid</th>\n      <th>total_visits_influenza</th>\n      <th>total_visits_rsv</th>\n      <th>total_visits_smoothed_combined</th>\n      <th>total_visits_smoothed_covid</th>\n      <th>total_visits_smoothed_influenza</th>\n      <th>total_visits_smoothed_rsv</th>\n      <th>high_visits_covid</th>\n      <th>high_visits_influenza</th>\n      <th>high_visits_rsv</th>\n    </tr>\n  </thead>\n  <tbody>\n    <tr>\n      <th>0</th>\n      <td>Boston</td>\n      <td>Decreasing</td>\n      <td>Decreasing</td>\n      <td>Decreasing</td>\n      <td>2023-02-18</td>\n      <td>1596500</td>\n      <td>193750</td>\n      <td>54250</td>\n      <td>1883250.0</td>\n      <td>1573250.0</td>\n      <td>217000.0</td>\n      <td>62000.0</td>\n      <td>1</td>\n      <td>0</td>\n      <td>1</td>\n    </tr>\n    <tr>\n      <th>1</th>\n      <td>Boston</td>\n      <td>Decreasing</td>\n      <td>Decreasing</td>\n      <td>Decreasing</td>\n      <td>2023-03-04</td>\n      <td>1085000</td>\n      <td>108500</td>\n      <td>93000</td>\n      <td>1325250.0</td>\n      <td>1116000.0</td>\n      <td>139500.0</td>\n      <td>54250.0</td>\n      <td>1</td>\n      <td>0</td>\n      <td>1</td>\n    </tr>\n    <tr>\n      <th>2</th>\n      <td>Boston</td>\n      <td>Decreasing</td>\n      <td>Increasing</td>\n      <td>Decreasing</td>\n      <td>2023-03-18</td>\n      <td>968750</td>\n      <td>186000</td>\n      <td>46500</td>\n      <td>1061750.0</td>\n      <td>914500.0</td>\n      <td>139500.0</td>\n      <td>46500.0</td>\n      <td>1</td>\n      <td>0</td>\n      <td>1</td>\n    </tr>\n    <tr>\n      <th>3</th>\n      <td>Boston</td>\n      <td>Decreasing</td>\n      <td>No Change</td>\n      <td>Decreasing</td>\n      <td>2023-04-01</td>\n      <td>798250</td>\n      <td>162750</td>\n      <td>31000</td>\n      <td>1015250.0</td>\n      <td>806000.0</td>\n      <td>162750.0</td>\n      <td>31000.0</td>\n      <td>1</td>\n      <td>0</td>\n      <td>1</td>\n    </tr>\n    <tr>\n      <th>4</th>\n      <td>Boston</td>\n      <td>Decreasing</td>\n      <td>Decreasing</td>\n      <td>Decreasing</td>\n      <td>2023-04-08</td>\n      <td>790500</td>\n      <td>147250</td>\n      <td>23250</td>\n      <td>906750.0</td>\n      <td>713000.0</td>\n      <td>155000.0</td>\n      <td>23250.0</td>\n      <td>1</td>\n      <td>0</td>\n      <td>1</td>\n    </tr>\n  </tbody>\n</table>\n</div>",
            "text/plain": "  Location ed_trends_covid ed_trends_influenza ed_trends_rsv    week_end  \\\n0   Boston      Decreasing          Decreasing    Decreasing  2023-02-18   \n1   Boston      Decreasing          Decreasing    Decreasing  2023-03-04   \n2   Boston      Decreasing          Increasing    Decreasing  2023-03-18   \n3   Boston      Decreasing           No Change    Decreasing  2023-04-01   \n4   Boston      Decreasing          Decreasing    Decreasing  2023-04-08   \n\n   total_visits_covid  total_visits_influenza  total_visits_rsv  \\\n0             1596500                  193750             54250   \n1             1085000                  108500             93000   \n2              968750                  186000             46500   \n3              798250                  162750             31000   \n4              790500                  147250             23250   \n\n   total_visits_smoothed_combined  total_visits_smoothed_covid  \\\n0                       1883250.0                    1573250.0   \n1                       1325250.0                    1116000.0   \n2                       1061750.0                     914500.0   \n3                       1015250.0                     806000.0   \n4                        906750.0                     713000.0   \n\n   total_visits_smoothed_influenza  total_visits_smoothed_rsv  \\\n0                         217000.0                    62000.0   \n1                         139500.0                    54250.0   \n2                         139500.0                    46500.0   \n3                         162750.0                    31000.0   \n4                         155000.0                    23250.0   \n\n   high_visits_covid  high_visits_influenza  high_visits_rsv  \n0                  1                      0                1  \n1                  1                      0                1  \n2                  1                      0                1  \n3                  1                      0                1  \n4                  1                      0                1  "
          },
          "execution_count": 6,
          "metadata": {}
        }
      ],
      "metadata": {},
      "source": [
        "b_h_visit_events = pd.read_parquet('aggbostonhighvisitevents.snappy.parquet')\n",
        "b_h_visit_events.head()"
      ]
    },
    {
      "cell_type": "code",
      "execution_count": 7,
      "outputs": [
        {
          "output_type": "execute_result",
          "data": {
            "text/html": "<div>\n<style scoped>\n    .dataframe tbody tr th:only-of-type {\n        vertical-align: middle;\n    }\n\n    .dataframe tbody tr th {\n        vertical-align: top;\n    }\n\n    .dataframe thead th {\n        text-align: right;\n    }\n</style>\n<table border=\"1\" class=\"dataframe\">\n  <thead>\n    <tr style=\"text-align: right;\">\n      <th></th>\n      <th>date</th>\n      <th>avg_co</th>\n      <th>avg_no2</th>\n      <th>avg_o3</th>\n      <th>avg_so2</th>\n      <th>avg_pm2_5</th>\n      <th>avg_pm10</th>\n    </tr>\n  </thead>\n  <tbody>\n    <tr>\n      <th>0</th>\n      <td>2023-05-01</td>\n      <td>234.55</td>\n      <td>6.23</td>\n      <td>76.26</td>\n      <td>1.78</td>\n      <td>3.34</td>\n      <td>3.84</td>\n    </tr>\n    <tr>\n      <th>1</th>\n      <td>2023-05-18</td>\n      <td>279.54</td>\n      <td>13.80</td>\n      <td>87.68</td>\n      <td>3.32</td>\n      <td>3.66</td>\n      <td>4.51</td>\n    </tr>\n    <tr>\n      <th>2</th>\n      <td>2024-01-19</td>\n      <td>381.35</td>\n      <td>27.39</td>\n      <td>49.04</td>\n      <td>5.35</td>\n      <td>7.43</td>\n      <td>9.26</td>\n    </tr>\n    <tr>\n      <th>3</th>\n      <td>2024-07-14</td>\n      <td>294.57</td>\n      <td>14.11</td>\n      <td>113.75</td>\n      <td>2.94</td>\n      <td>9.08</td>\n      <td>9.75</td>\n    </tr>\n    <tr>\n      <th>4</th>\n      <td>2024-08-20</td>\n      <td>309.03</td>\n      <td>11.25</td>\n      <td>44.53</td>\n      <td>2.27</td>\n      <td>2.63</td>\n      <td>3.11</td>\n    </tr>\n  </tbody>\n</table>\n</div>",
            "text/plain": "         date  avg_co  avg_no2  avg_o3  avg_so2  avg_pm2_5  avg_pm10\n0  2023-05-01  234.55     6.23   76.26     1.78       3.34      3.84\n1  2023-05-18  279.54    13.80   87.68     3.32       3.66      4.51\n2  2024-01-19  381.35    27.39   49.04     5.35       7.43      9.26\n3  2024-07-14  294.57    14.11  113.75     2.94       9.08      9.75\n4  2024-08-20  309.03    11.25   44.53     2.27       2.63      3.11"
          },
          "execution_count": 7,
          "metadata": {}
        }
      ],
      "metadata": {},
      "source": [
        "b_pollutants = pd.read_parquet('aggbostonpollutants.snappy.parquet')\n",
        "b_pollutants.head()"
      ]
    },
    {
      "cell_type": "code",
      "execution_count": 11,
      "outputs": [
        {
          "output_type": "execute_result",
          "data": {
            "text/html": "<div>\n<style scoped>\n    .dataframe tbody tr th:only-of-type {\n        vertical-align: middle;\n    }\n\n    .dataframe tbody tr th {\n        vertical-align: top;\n    }\n\n    .dataframe thead th {\n        text-align: right;\n    }\n</style>\n<table border=\"1\" class=\"dataframe\">\n  <thead>\n    <tr style=\"text-align: right;\">\n      <th></th>\n      <th>date</th>\n      <th>avg_us_aqi</th>\n    </tr>\n  </thead>\n  <tbody>\n    <tr>\n      <th>0</th>\n      <td>2023-05-01</td>\n      <td>119.0</td>\n    </tr>\n    <tr>\n      <th>1</th>\n      <td>2023-05-18</td>\n      <td>125.0</td>\n    </tr>\n    <tr>\n      <th>2</th>\n      <td>2024-01-19</td>\n      <td>63.0</td>\n    </tr>\n    <tr>\n      <th>3</th>\n      <td>2024-07-14</td>\n      <td>38.0</td>\n    </tr>\n    <tr>\n      <th>4</th>\n      <td>2024-08-20</td>\n      <td>136.0</td>\n    </tr>\n  </tbody>\n</table>\n</div>",
            "text/plain": "         date  avg_us_aqi\n0  2023-05-01       119.0\n1  2023-05-18       125.0\n2  2024-01-19        63.0\n3  2024-07-14        38.0\n4  2024-08-20       136.0"
          },
          "execution_count": 11,
          "metadata": {}
        }
      ],
      "metadata": {},
      "source": [
        "h_aqi = pd.read_parquet('agghoustonaqi.snappy.parquet')\n",
        "h_aqi.head()"
      ]
    },
    {
      "cell_type": "code",
      "execution_count": 13,
      "outputs": [
        {
          "output_type": "execute_result",
          "data": {
            "text/html": "<div>\n<style scoped>\n    .dataframe tbody tr th:only-of-type {\n        vertical-align: middle;\n    }\n\n    .dataframe tbody tr th {\n        vertical-align: top;\n    }\n\n    .dataframe thead th {\n        text-align: right;\n    }\n</style>\n<table border=\"1\" class=\"dataframe\">\n  <thead>\n    <tr style=\"text-align: right;\">\n      <th></th>\n      <th>date</th>\n      <th>high_pollution_events</th>\n    </tr>\n  </thead>\n  <tbody>\n    <tr>\n      <th>0</th>\n      <td>2023-05-01</td>\n      <td>11</td>\n    </tr>\n    <tr>\n      <th>1</th>\n      <td>2023-05-18</td>\n      <td>11</td>\n    </tr>\n    <tr>\n      <th>2</th>\n      <td>2024-01-19</td>\n      <td>3</td>\n    </tr>\n    <tr>\n      <th>3</th>\n      <td>2024-07-14</td>\n      <td>0</td>\n    </tr>\n    <tr>\n      <th>4</th>\n      <td>2024-08-20</td>\n      <td>15</td>\n    </tr>\n  </tbody>\n</table>\n</div>",
            "text/plain": "         date  high_pollution_events\n0  2023-05-01                     11\n1  2023-05-18                     11\n2  2024-01-19                      3\n3  2024-07-14                      0\n4  2024-08-20                     15"
          },
          "execution_count": 13,
          "metadata": {}
        }
      ],
      "metadata": {},
      "source": [
        "h_h_pol_events = pd.read_parquet('agghoustonhighpollutionevents.snappy.parquet')\n",
        "h_h_pol_events.head()"
      ]
    },
    {
      "cell_type": "code",
      "execution_count": 14,
      "outputs": [
        {
          "output_type": "execute_result",
          "data": {
            "text/html": "<div>\n<style scoped>\n    .dataframe tbody tr th:only-of-type {\n        vertical-align: middle;\n    }\n\n    .dataframe tbody tr th {\n        vertical-align: top;\n    }\n\n    .dataframe thead th {\n        text-align: right;\n    }\n</style>\n<table border=\"1\" class=\"dataframe\">\n  <thead>\n    <tr style=\"text-align: right;\">\n      <th></th>\n      <th>week_end</th>\n      <th>ed_trends_covid</th>\n      <th>ed_trends_influenza</th>\n      <th>ed_trends_rsv</th>\n      <th>total_visits_covid</th>\n      <th>total_visits_influenza</th>\n      <th>total_visits_rsv</th>\n      <th>total_visits_smoothed_combined</th>\n      <th>total_visits_smoothed_covid</th>\n      <th>total_visits_smoothed_influenza</th>\n      <th>total_visits_smoothed_rsv</th>\n      <th>Location</th>\n      <th>high_visits_covid</th>\n      <th>high_visits_influenza</th>\n      <th>high_visits_rsv</th>\n    </tr>\n  </thead>\n  <tbody>\n    <tr>\n      <th>0</th>\n      <td>2023-02-11</td>\n      <td>No Change</td>\n      <td>Decreasing</td>\n      <td>Decreasing</td>\n      <td>9116930</td>\n      <td>2905395</td>\n      <td>1051953</td>\n      <td>12122511.0</td>\n      <td>9066837.0</td>\n      <td>2604837.0</td>\n      <td>901674.0</td>\n      <td>Houston</td>\n      <td>1</td>\n      <td>1</td>\n      <td>1</td>\n    </tr>\n    <tr>\n      <th>1</th>\n      <td>2023-03-11</td>\n      <td>Decreasing</td>\n      <td>Decreasing</td>\n      <td>No Change</td>\n      <td>5209674</td>\n      <td>1302419</td>\n      <td>601116</td>\n      <td>6862744.0</td>\n      <td>5009302.0</td>\n      <td>1352512.0</td>\n      <td>701302.0</td>\n      <td>Houston</td>\n      <td>1</td>\n      <td>1</td>\n      <td>1</td>\n    </tr>\n    <tr>\n      <th>2</th>\n      <td>2023-04-08</td>\n      <td>Decreasing</td>\n      <td>No Change</td>\n      <td>Decreasing</td>\n      <td>3706883</td>\n      <td>1152139</td>\n      <td>450837</td>\n      <td>5410046.0</td>\n      <td>3807070.0</td>\n      <td>1102046.0</td>\n      <td>500930.0</td>\n      <td>Houston</td>\n      <td>1</td>\n      <td>1</td>\n      <td>1</td>\n    </tr>\n    <tr>\n      <th>3</th>\n      <td>2023-06-17</td>\n      <td>Increasing</td>\n      <td>Decreasing</td>\n      <td>No Change</td>\n      <td>1502791</td>\n      <td>701302</td>\n      <td>500930</td>\n      <td>2955488.0</td>\n      <td>1653070.0</td>\n      <td>801488.0</td>\n      <td>500930.0</td>\n      <td>Houston</td>\n      <td>1</td>\n      <td>1</td>\n      <td>1</td>\n    </tr>\n    <tr>\n      <th>4</th>\n      <td>2023-07-15</td>\n      <td>Increasing</td>\n      <td>No Change</td>\n      <td>Increasing</td>\n      <td>4157721</td>\n      <td>801488</td>\n      <td>551023</td>\n      <td>5460139.0</td>\n      <td>4358093.0</td>\n      <td>651209.0</td>\n      <td>601116.0</td>\n      <td>Houston</td>\n      <td>1</td>\n      <td>1</td>\n      <td>1</td>\n    </tr>\n  </tbody>\n</table>\n</div>",
            "text/plain": "     week_end ed_trends_covid ed_trends_influenza ed_trends_rsv  \\\n0  2023-02-11       No Change          Decreasing    Decreasing   \n1  2023-03-11      Decreasing          Decreasing     No Change   \n2  2023-04-08      Decreasing           No Change    Decreasing   \n3  2023-06-17      Increasing          Decreasing     No Change   \n4  2023-07-15      Increasing           No Change    Increasing   \n\n   total_visits_covid  total_visits_influenza  total_visits_rsv  \\\n0             9116930                 2905395           1051953   \n1             5209674                 1302419            601116   \n2             3706883                 1152139            450837   \n3             1502791                  701302            500930   \n4             4157721                  801488            551023   \n\n   total_visits_smoothed_combined  total_visits_smoothed_covid  \\\n0                      12122511.0                    9066837.0   \n1                       6862744.0                    5009302.0   \n2                       5410046.0                    3807070.0   \n3                       2955488.0                    1653070.0   \n4                       5460139.0                    4358093.0   \n\n   total_visits_smoothed_influenza  total_visits_smoothed_rsv Location  \\\n0                        2604837.0                   901674.0  Houston   \n1                        1352512.0                   701302.0  Houston   \n2                        1102046.0                   500930.0  Houston   \n3                         801488.0                   500930.0  Houston   \n4                         651209.0                   601116.0  Houston   \n\n   high_visits_covid  high_visits_influenza  high_visits_rsv  \n0                  1                      1                1  \n1                  1                      1                1  \n2                  1                      1                1  \n3                  1                      1                1  \n4                  1                      1                1  "
          },
          "execution_count": 14,
          "metadata": {}
        }
      ],
      "metadata": {},
      "source": [
        "h_h_visit_events = pd.read_parquet('agghoustonhighvisitevents.snappy.parquet')\n",
        "h_h_visit_events.head()"
      ]
    },
    {
      "cell_type": "code",
      "execution_count": 16,
      "outputs": [
        {
          "output_type": "execute_result",
          "data": {
            "text/html": "<div>\n<style scoped>\n    .dataframe tbody tr th:only-of-type {\n        vertical-align: middle;\n    }\n\n    .dataframe tbody tr th {\n        vertical-align: top;\n    }\n\n    .dataframe thead th {\n        text-align: right;\n    }\n</style>\n<table border=\"1\" class=\"dataframe\">\n  <thead>\n    <tr style=\"text-align: right;\">\n      <th></th>\n      <th>date</th>\n      <th>avg_co</th>\n      <th>avg_no2</th>\n      <th>avg_o3</th>\n      <th>avg_so2</th>\n      <th>avg_pm2_5</th>\n      <th>avg_pm10</th>\n    </tr>\n  </thead>\n  <tbody>\n    <tr>\n      <th>0</th>\n      <td>2023-05-01</td>\n      <td>316.12</td>\n      <td>17.58</td>\n      <td>96.97</td>\n      <td>7.69</td>\n      <td>9.46</td>\n      <td>11.95</td>\n    </tr>\n    <tr>\n      <th>1</th>\n      <td>2023-05-18</td>\n      <td>436.43</td>\n      <td>23.16</td>\n      <td>80.41</td>\n      <td>4.53</td>\n      <td>16.78</td>\n      <td>19.55</td>\n    </tr>\n    <tr>\n      <th>2</th>\n      <td>2024-01-19</td>\n      <td>462.02</td>\n      <td>23.99</td>\n      <td>39.08</td>\n      <td>2.63</td>\n      <td>16.57</td>\n      <td>21.21</td>\n    </tr>\n    <tr>\n      <th>3</th>\n      <td>2024-07-14</td>\n      <td>298.46</td>\n      <td>15.32</td>\n      <td>26.76</td>\n      <td>3.32</td>\n      <td>3.86</td>\n      <td>5.03</td>\n    </tr>\n    <tr>\n      <th>4</th>\n      <td>2024-08-20</td>\n      <td>317.79</td>\n      <td>13.31</td>\n      <td>82.92</td>\n      <td>4.34</td>\n      <td>7.95</td>\n      <td>10.59</td>\n    </tr>\n  </tbody>\n</table>\n</div>",
            "text/plain": "         date  avg_co  avg_no2  avg_o3  avg_so2  avg_pm2_5  avg_pm10\n0  2023-05-01  316.12    17.58   96.97     7.69       9.46     11.95\n1  2023-05-18  436.43    23.16   80.41     4.53      16.78     19.55\n2  2024-01-19  462.02    23.99   39.08     2.63      16.57     21.21\n3  2024-07-14  298.46    15.32   26.76     3.32       3.86      5.03\n4  2024-08-20  317.79    13.31   82.92     4.34       7.95     10.59"
          },
          "execution_count": 16,
          "metadata": {}
        }
      ],
      "metadata": {},
      "source": [
        "h_pollutants = pd.read_parquet('agghoustonpollutants.snappy.parquet')\n",
        "h_pollutants.head()"
      ]
    },
    {
      "cell_type": "code",
      "execution_count": 17,
      "outputs": [
        {
          "output_type": "execute_result",
          "data": {
            "text/html": "<div>\n<style scoped>\n    .dataframe tbody tr th:only-of-type {\n        vertical-align: middle;\n    }\n\n    .dataframe tbody tr th {\n        vertical-align: top;\n    }\n\n    .dataframe thead th {\n        text-align: right;\n    }\n</style>\n<table border=\"1\" class=\"dataframe\">\n  <thead>\n    <tr style=\"text-align: right;\">\n      <th></th>\n      <th>co</th>\n      <th>nh3</th>\n      <th>no</th>\n      <th>no2</th>\n      <th>o3</th>\n      <th>pm10</th>\n      <th>pm2_5</th>\n      <th>so2</th>\n      <th>aqi</th>\n      <th>Location</th>\n      <th>...</th>\n      <th>date_time</th>\n      <th>o3_8hr</th>\n      <th>o3_1hr</th>\n      <th>pm2_5_24hr</th>\n      <th>pm10_24hr</th>\n      <th>co_8hr</th>\n      <th>so2_1hr</th>\n      <th>so2_24hr</th>\n      <th>no2_1hr</th>\n      <th>us_aqi</th>\n    </tr>\n  </thead>\n  <tbody>\n    <tr>\n      <th>0</th>\n      <td>243.66</td>\n      <td>0.36</td>\n      <td>0</td>\n      <td>6.51</td>\n      <td>78.68</td>\n      <td>1.04</td>\n      <td>0.69</td>\n      <td>1.62</td>\n      <td>2</td>\n      <td>Boston</td>\n      <td>...</td>\n      <td>2023-02-01 07:00:00</td>\n      <td>78.68</td>\n      <td>78.68</td>\n      <td>0.690</td>\n      <td>1.040000</td>\n      <td>243.660</td>\n      <td>1.62</td>\n      <td>1.620000</td>\n      <td>6.51</td>\n      <td>128</td>\n    </tr>\n    <tr>\n      <th>1</th>\n      <td>243.66</td>\n      <td>0.34</td>\n      <td>0</td>\n      <td>6.43</td>\n      <td>78.68</td>\n      <td>0.97</td>\n      <td>0.66</td>\n      <td>1.77</td>\n      <td>2</td>\n      <td>Boston</td>\n      <td>...</td>\n      <td>2023-02-01 08:00:00</td>\n      <td>78.68</td>\n      <td>78.68</td>\n      <td>0.675</td>\n      <td>1.005000</td>\n      <td>243.660</td>\n      <td>1.77</td>\n      <td>1.695000</td>\n      <td>6.43</td>\n      <td>128</td>\n    </tr>\n    <tr>\n      <th>2</th>\n      <td>243.66</td>\n      <td>0.33</td>\n      <td>0</td>\n      <td>6.34</td>\n      <td>77.96</td>\n      <td>1.06</td>\n      <td>0.75</td>\n      <td>1.94</td>\n      <td>2</td>\n      <td>Boston</td>\n      <td>...</td>\n      <td>2023-02-01 09:00:00</td>\n      <td>78.44</td>\n      <td>77.96</td>\n      <td>0.700</td>\n      <td>1.023333</td>\n      <td>243.660</td>\n      <td>1.94</td>\n      <td>1.776667</td>\n      <td>6.34</td>\n      <td>127</td>\n    </tr>\n    <tr>\n      <th>3</th>\n      <td>243.66</td>\n      <td>0.34</td>\n      <td>0</td>\n      <td>6.34</td>\n      <td>77.96</td>\n      <td>1.14</td>\n      <td>0.82</td>\n      <td>2.09</td>\n      <td>2</td>\n      <td>Boston</td>\n      <td>...</td>\n      <td>2023-02-01 10:00:00</td>\n      <td>78.32</td>\n      <td>77.96</td>\n      <td>0.730</td>\n      <td>1.052500</td>\n      <td>243.660</td>\n      <td>2.09</td>\n      <td>1.855000</td>\n      <td>6.34</td>\n      <td>127</td>\n    </tr>\n    <tr>\n      <th>4</th>\n      <td>247.00</td>\n      <td>0.39</td>\n      <td>0</td>\n      <td>7.54</td>\n      <td>75.82</td>\n      <td>1.34</td>\n      <td>0.97</td>\n      <td>2.26</td>\n      <td>2</td>\n      <td>Boston</td>\n      <td>...</td>\n      <td>2023-02-01 11:00:00</td>\n      <td>77.82</td>\n      <td>75.82</td>\n      <td>0.778</td>\n      <td>1.110000</td>\n      <td>244.328</td>\n      <td>2.26</td>\n      <td>1.936000</td>\n      <td>7.54</td>\n      <td>125</td>\n    </tr>\n  </tbody>\n</table>\n<p>5 rows × 21 columns</p>\n</div>",
            "text/plain": "       co   nh3  no   no2     o3  pm10  pm2_5   so2  aqi Location  ...  \\\n0  243.66  0.36   0  6.51  78.68  1.04   0.69  1.62    2   Boston  ...   \n1  243.66  0.34   0  6.43  78.68  0.97   0.66  1.77    2   Boston  ...   \n2  243.66  0.33   0  6.34  77.96  1.06   0.75  1.94    2   Boston  ...   \n3  243.66  0.34   0  6.34  77.96  1.14   0.82  2.09    2   Boston  ...   \n4  247.00  0.39   0  7.54  75.82  1.34   0.97  2.26    2   Boston  ...   \n\n            date_time o3_8hr  o3_1hr  pm2_5_24hr  pm10_24hr   co_8hr  so2_1hr  \\\n0 2023-02-01 07:00:00  78.68   78.68       0.690   1.040000  243.660     1.62   \n1 2023-02-01 08:00:00  78.68   78.68       0.675   1.005000  243.660     1.77   \n2 2023-02-01 09:00:00  78.44   77.96       0.700   1.023333  243.660     1.94   \n3 2023-02-01 10:00:00  78.32   77.96       0.730   1.052500  243.660     2.09   \n4 2023-02-01 11:00:00  77.82   75.82       0.778   1.110000  244.328     2.26   \n\n   so2_24hr  no2_1hr  us_aqi  \n0  1.620000     6.51     128  \n1  1.695000     6.43     128  \n2  1.776667     6.34     127  \n3  1.855000     6.34     127  \n4  1.936000     7.54     125  \n\n[5 rows x 21 columns]"
          },
          "execution_count": 17,
          "metadata": {}
        }
      ],
      "metadata": {},
      "source": [
        "b_pro_ap = pd.read_parquet('bostonprocessedairpollution.snappy.parquet')\n",
        "b_pro_ap.head()"
      ]
    },
    {
      "cell_type": "code",
      "execution_count": 18,
      "outputs": [
        {
          "output_type": "execute_result",
          "data": {
            "text/html": "<div>\n<style scoped>\n    .dataframe tbody tr th:only-of-type {\n        vertical-align: middle;\n    }\n\n    .dataframe tbody tr th {\n        vertical-align: top;\n    }\n\n    .dataframe thead th {\n        text-align: right;\n    }\n</style>\n<table border=\"1\" class=\"dataframe\">\n  <thead>\n    <tr style=\"text-align: right;\">\n      <th></th>\n      <th>Location</th>\n      <th>ed_trends_covid</th>\n      <th>ed_trends_influenza</th>\n      <th>ed_trends_rsv</th>\n      <th>week_end</th>\n      <th>total_visits_covid</th>\n      <th>total_visits_influenza</th>\n      <th>total_visits_rsv</th>\n      <th>total_visits_smoothed_combined</th>\n      <th>total_visits_smoothed_covid</th>\n      <th>total_visits_smoothed_influenza</th>\n      <th>total_visits_smoothed_rsv</th>\n    </tr>\n  </thead>\n  <tbody>\n    <tr>\n      <th>0</th>\n      <td>Boston</td>\n      <td>Decreasing</td>\n      <td>Decreasing</td>\n      <td>Decreasing</td>\n      <td>2023-02-18</td>\n      <td>1596500</td>\n      <td>193750</td>\n      <td>54250</td>\n      <td>1883250.0</td>\n      <td>1573250.0</td>\n      <td>217000.0</td>\n      <td>62000.0</td>\n    </tr>\n    <tr>\n      <th>1</th>\n      <td>Boston</td>\n      <td>Decreasing</td>\n      <td>Decreasing</td>\n      <td>Decreasing</td>\n      <td>2023-03-04</td>\n      <td>1085000</td>\n      <td>108500</td>\n      <td>93000</td>\n      <td>1325250.0</td>\n      <td>1116000.0</td>\n      <td>139500.0</td>\n      <td>54250.0</td>\n    </tr>\n    <tr>\n      <th>2</th>\n      <td>Boston</td>\n      <td>Decreasing</td>\n      <td>Increasing</td>\n      <td>Decreasing</td>\n      <td>2023-03-18</td>\n      <td>968750</td>\n      <td>186000</td>\n      <td>46500</td>\n      <td>1061750.0</td>\n      <td>914500.0</td>\n      <td>139500.0</td>\n      <td>46500.0</td>\n    </tr>\n    <tr>\n      <th>3</th>\n      <td>Boston</td>\n      <td>Decreasing</td>\n      <td>No Change</td>\n      <td>Decreasing</td>\n      <td>2023-04-01</td>\n      <td>798250</td>\n      <td>162750</td>\n      <td>31000</td>\n      <td>1015250.0</td>\n      <td>806000.0</td>\n      <td>162750.0</td>\n      <td>31000.0</td>\n    </tr>\n    <tr>\n      <th>4</th>\n      <td>Boston</td>\n      <td>Decreasing</td>\n      <td>Decreasing</td>\n      <td>Decreasing</td>\n      <td>2023-04-08</td>\n      <td>790500</td>\n      <td>147250</td>\n      <td>23250</td>\n      <td>906750.0</td>\n      <td>713000.0</td>\n      <td>155000.0</td>\n      <td>23250.0</td>\n    </tr>\n  </tbody>\n</table>\n</div>",
            "text/plain": "  Location ed_trends_covid ed_trends_influenza ed_trends_rsv    week_end  \\\n0   Boston      Decreasing          Decreasing    Decreasing  2023-02-18   \n1   Boston      Decreasing          Decreasing    Decreasing  2023-03-04   \n2   Boston      Decreasing          Increasing    Decreasing  2023-03-18   \n3   Boston      Decreasing           No Change    Decreasing  2023-04-01   \n4   Boston      Decreasing          Decreasing    Decreasing  2023-04-08   \n\n   total_visits_covid  total_visits_influenza  total_visits_rsv  \\\n0             1596500                  193750             54250   \n1             1085000                  108500             93000   \n2              968750                  186000             46500   \n3              798250                  162750             31000   \n4              790500                  147250             23250   \n\n   total_visits_smoothed_combined  total_visits_smoothed_covid  \\\n0                       1883250.0                    1573250.0   \n1                       1325250.0                    1116000.0   \n2                       1061750.0                     914500.0   \n3                       1015250.0                     806000.0   \n4                        906750.0                     713000.0   \n\n   total_visits_smoothed_influenza  total_visits_smoothed_rsv  \n0                         217000.0                    62000.0  \n1                         139500.0                    54250.0  \n2                         139500.0                    46500.0  \n3                         162750.0                    31000.0  \n4                         155000.0                    23250.0  "
          },
          "execution_count": 18,
          "metadata": {}
        }
      ],
      "metadata": {},
      "source": [
        "b_pro_res = pd.read_parquet('bostonprocessedrespiratory.snappy.parquet')\n",
        "b_pro_res.head()"
      ]
    },
    {
      "cell_type": "code",
      "execution_count": 21,
      "outputs": [
        {
          "output_type": "execute_result",
          "data": {
            "text/html": "<div>\n<style scoped>\n    .dataframe tbody tr th:only-of-type {\n        vertical-align: middle;\n    }\n\n    .dataframe tbody tr th {\n        vertical-align: top;\n    }\n\n    .dataframe thead th {\n        text-align: right;\n    }\n</style>\n<table border=\"1\" class=\"dataframe\">\n  <thead>\n    <tr style=\"text-align: right;\">\n      <th></th>\n      <th>co</th>\n      <th>nh3</th>\n      <th>no</th>\n      <th>no2</th>\n      <th>o3</th>\n      <th>pm10</th>\n      <th>pm2_5</th>\n      <th>so2</th>\n      <th>aqi</th>\n      <th>Location</th>\n      <th>...</th>\n      <th>date_time</th>\n      <th>o3_8hr</th>\n      <th>o3_1hr</th>\n      <th>pm2_5_24hr</th>\n      <th>pm10_24hr</th>\n      <th>co_8hr</th>\n      <th>so2_1hr</th>\n      <th>so2_24hr</th>\n      <th>no2_1hr</th>\n      <th>us_aqi</th>\n    </tr>\n  </thead>\n  <tbody>\n    <tr>\n      <th>0</th>\n      <td>280.38</td>\n      <td>0.30</td>\n      <td>0</td>\n      <td>13.02</td>\n      <td>26.11</td>\n      <td>2.42</td>\n      <td>1.91</td>\n      <td>1.83</td>\n      <td>1</td>\n      <td>Houston</td>\n      <td>...</td>\n      <td>2023-02-01 07:00:00</td>\n      <td>26.110000</td>\n      <td>26.11</td>\n      <td>1.910</td>\n      <td>2.4200</td>\n      <td>280.380</td>\n      <td>1.83</td>\n      <td>1.830000</td>\n      <td>13.02</td>\n      <td>24</td>\n    </tr>\n    <tr>\n      <th>1</th>\n      <td>277.04</td>\n      <td>0.30</td>\n      <td>0</td>\n      <td>12.51</td>\n      <td>26.82</td>\n      <td>2.37</td>\n      <td>1.90</td>\n      <td>2.06</td>\n      <td>1</td>\n      <td>Houston</td>\n      <td>...</td>\n      <td>2023-02-01 08:00:00</td>\n      <td>26.465000</td>\n      <td>26.82</td>\n      <td>1.905</td>\n      <td>2.3950</td>\n      <td>278.710</td>\n      <td>2.06</td>\n      <td>1.945000</td>\n      <td>12.51</td>\n      <td>25</td>\n    </tr>\n    <tr>\n      <th>2</th>\n      <td>273.70</td>\n      <td>0.30</td>\n      <td>0</td>\n      <td>12.17</td>\n      <td>26.82</td>\n      <td>2.44</td>\n      <td>1.98</td>\n      <td>2.15</td>\n      <td>1</td>\n      <td>Houston</td>\n      <td>...</td>\n      <td>2023-02-01 09:00:00</td>\n      <td>26.583333</td>\n      <td>26.82</td>\n      <td>1.930</td>\n      <td>2.4100</td>\n      <td>277.040</td>\n      <td>2.15</td>\n      <td>2.013333</td>\n      <td>12.17</td>\n      <td>25</td>\n    </tr>\n    <tr>\n      <th>3</th>\n      <td>273.70</td>\n      <td>0.30</td>\n      <td>0</td>\n      <td>11.82</td>\n      <td>27.18</td>\n      <td>2.72</td>\n      <td>2.25</td>\n      <td>2.12</td>\n      <td>1</td>\n      <td>Houston</td>\n      <td>...</td>\n      <td>2023-02-01 10:00:00</td>\n      <td>26.732500</td>\n      <td>27.18</td>\n      <td>2.010</td>\n      <td>2.4875</td>\n      <td>276.205</td>\n      <td>2.12</td>\n      <td>2.040000</td>\n      <td>11.82</td>\n      <td>25</td>\n    </tr>\n    <tr>\n      <th>4</th>\n      <td>270.37</td>\n      <td>0.31</td>\n      <td>0</td>\n      <td>11.65</td>\n      <td>27.54</td>\n      <td>3.10</td>\n      <td>2.61</td>\n      <td>2.24</td>\n      <td>1</td>\n      <td>Houston</td>\n      <td>...</td>\n      <td>2023-02-01 11:00:00</td>\n      <td>26.894000</td>\n      <td>27.54</td>\n      <td>2.130</td>\n      <td>2.6100</td>\n      <td>275.038</td>\n      <td>2.24</td>\n      <td>2.080000</td>\n      <td>11.65</td>\n      <td>25</td>\n    </tr>\n  </tbody>\n</table>\n<p>5 rows × 21 columns</p>\n</div>",
            "text/plain": "       co   nh3  no    no2     o3  pm10  pm2_5   so2  aqi Location  ...  \\\n0  280.38  0.30   0  13.02  26.11  2.42   1.91  1.83    1  Houston  ...   \n1  277.04  0.30   0  12.51  26.82  2.37   1.90  2.06    1  Houston  ...   \n2  273.70  0.30   0  12.17  26.82  2.44   1.98  2.15    1  Houston  ...   \n3  273.70  0.30   0  11.82  27.18  2.72   2.25  2.12    1  Houston  ...   \n4  270.37  0.31   0  11.65  27.54  3.10   2.61  2.24    1  Houston  ...   \n\n            date_time     o3_8hr  o3_1hr  pm2_5_24hr  pm10_24hr   co_8hr  \\\n0 2023-02-01 07:00:00  26.110000   26.11       1.910     2.4200  280.380   \n1 2023-02-01 08:00:00  26.465000   26.82       1.905     2.3950  278.710   \n2 2023-02-01 09:00:00  26.583333   26.82       1.930     2.4100  277.040   \n3 2023-02-01 10:00:00  26.732500   27.18       2.010     2.4875  276.205   \n4 2023-02-01 11:00:00  26.894000   27.54       2.130     2.6100  275.038   \n\n   so2_1hr  so2_24hr  no2_1hr  us_aqi  \n0     1.83  1.830000    13.02      24  \n1     2.06  1.945000    12.51      25  \n2     2.15  2.013333    12.17      25  \n3     2.12  2.040000    11.82      25  \n4     2.24  2.080000    11.65      25  \n\n[5 rows x 21 columns]"
          },
          "execution_count": 21,
          "metadata": {}
        }
      ],
      "metadata": {},
      "source": [
        "h_pro_ap = pd.read_parquet('houstonprocessedairpollution.snappy.parquet')\n",
        "h_pro_ap.head()"
      ]
    },
    {
      "cell_type": "code",
      "execution_count": 22,
      "outputs": [
        {
          "output_type": "execute_result",
          "data": {
            "text/html": "<div>\n<style scoped>\n    .dataframe tbody tr th:only-of-type {\n        vertical-align: middle;\n    }\n\n    .dataframe tbody tr th {\n        vertical-align: top;\n    }\n\n    .dataframe thead th {\n        text-align: right;\n    }\n</style>\n<table border=\"1\" class=\"dataframe\">\n  <thead>\n    <tr style=\"text-align: right;\">\n      <th></th>\n      <th>week_end</th>\n      <th>ed_trends_covid</th>\n      <th>ed_trends_influenza</th>\n      <th>ed_trends_rsv</th>\n      <th>total_visits_covid</th>\n      <th>total_visits_influenza</th>\n      <th>total_visits_rsv</th>\n      <th>total_visits_smoothed_combined</th>\n      <th>total_visits_smoothed_covid</th>\n      <th>total_visits_smoothed_influenza</th>\n      <th>total_visits_smoothed_rsv</th>\n      <th>Location</th>\n    </tr>\n  </thead>\n  <tbody>\n    <tr>\n      <th>0</th>\n      <td>2023-02-11</td>\n      <td>No Change</td>\n      <td>Decreasing</td>\n      <td>Decreasing</td>\n      <td>9116930</td>\n      <td>2905395</td>\n      <td>1051953</td>\n      <td>12122511.0</td>\n      <td>9066837.0</td>\n      <td>2604837.0</td>\n      <td>901674.0</td>\n      <td>Houston</td>\n    </tr>\n    <tr>\n      <th>1</th>\n      <td>2023-03-11</td>\n      <td>Decreasing</td>\n      <td>Decreasing</td>\n      <td>No Change</td>\n      <td>5209674</td>\n      <td>1302419</td>\n      <td>601116</td>\n      <td>6862744.0</td>\n      <td>5009302.0</td>\n      <td>1352512.0</td>\n      <td>701302.0</td>\n      <td>Houston</td>\n    </tr>\n    <tr>\n      <th>2</th>\n      <td>2023-04-08</td>\n      <td>Decreasing</td>\n      <td>No Change</td>\n      <td>Decreasing</td>\n      <td>3706883</td>\n      <td>1152139</td>\n      <td>450837</td>\n      <td>5410046.0</td>\n      <td>3807070.0</td>\n      <td>1102046.0</td>\n      <td>500930.0</td>\n      <td>Houston</td>\n    </tr>\n    <tr>\n      <th>3</th>\n      <td>2023-06-17</td>\n      <td>Increasing</td>\n      <td>Decreasing</td>\n      <td>No Change</td>\n      <td>1502791</td>\n      <td>701302</td>\n      <td>500930</td>\n      <td>2955488.0</td>\n      <td>1653070.0</td>\n      <td>801488.0</td>\n      <td>500930.0</td>\n      <td>Houston</td>\n    </tr>\n    <tr>\n      <th>4</th>\n      <td>2023-07-15</td>\n      <td>Increasing</td>\n      <td>No Change</td>\n      <td>Increasing</td>\n      <td>4157721</td>\n      <td>801488</td>\n      <td>551023</td>\n      <td>5460139.0</td>\n      <td>4358093.0</td>\n      <td>651209.0</td>\n      <td>601116.0</td>\n      <td>Houston</td>\n    </tr>\n  </tbody>\n</table>\n</div>",
            "text/plain": "     week_end ed_trends_covid ed_trends_influenza ed_trends_rsv  \\\n0  2023-02-11       No Change          Decreasing    Decreasing   \n1  2023-03-11      Decreasing          Decreasing     No Change   \n2  2023-04-08      Decreasing           No Change    Decreasing   \n3  2023-06-17      Increasing          Decreasing     No Change   \n4  2023-07-15      Increasing           No Change    Increasing   \n\n   total_visits_covid  total_visits_influenza  total_visits_rsv  \\\n0             9116930                 2905395           1051953   \n1             5209674                 1302419            601116   \n2             3706883                 1152139            450837   \n3             1502791                  701302            500930   \n4             4157721                  801488            551023   \n\n   total_visits_smoothed_combined  total_visits_smoothed_covid  \\\n0                      12122511.0                    9066837.0   \n1                       6862744.0                    5009302.0   \n2                       5410046.0                    3807070.0   \n3                       2955488.0                    1653070.0   \n4                       5460139.0                    4358093.0   \n\n   total_visits_smoothed_influenza  total_visits_smoothed_rsv Location  \n0                        2604837.0                   901674.0  Houston  \n1                        1352512.0                   701302.0  Houston  \n2                        1102046.0                   500930.0  Houston  \n3                         801488.0                   500930.0  Houston  \n4                         651209.0                   601116.0  Houston  "
          },
          "execution_count": 22,
          "metadata": {}
        }
      ],
      "metadata": {},
      "source": [
        "h_pro_res = pd.read_parquet('houstonprocessedrespiratory.snappy.parquet')\n",
        "h_pro_res.head()"
      ]
    },
    {
      "cell_type": "code",
      "execution_count": 25,
      "outputs": [
        {
          "output_type": "stream",
          "name": "stdout",
          "text": [
            "<class 'pandas.core.frame.DataFrame'>\nRangeIndex: 113 entries, 0 to 112\nData columns (total 34 columns):\n #   Column                             Non-Null Count  Dtype         \n---  ------                             --------------  -----         \n 0   Location                           113 non-null    object        \n 1   ed_trends_covid_x                  113 non-null    object        \n 2   ed_trends_influenza_x              113 non-null    object        \n 3   ed_trends_rsv_x                    113 non-null    object        \n 4   week_end                           113 non-null    datetime64[ns]\n 5   total_visits_covid_x               113 non-null    int32         \n 6   total_visits_influenza_x           113 non-null    int32         \n 7   total_visits_rsv_x                 113 non-null    int32         \n 8   total_visits_smoothed_combined_x   87 non-null     float64       \n 9   total_visits_smoothed_covid_x      113 non-null    float64       \n 10  total_visits_smoothed_influenza_x  113 non-null    float64       \n 11  total_visits_smoothed_rsv_x        113 non-null    float64       \n 12  ed_trends_covid_y                  113 non-null    object        \n 13  ed_trends_influenza_y              113 non-null    object        \n 14  ed_trends_rsv_y                    113 non-null    object        \n 15  total_visits_covid_y               113 non-null    int32         \n 16  total_visits_influenza_y           113 non-null    int32         \n 17  total_visits_rsv_y                 113 non-null    int32         \n 18  total_visits_smoothed_combined_y   87 non-null     float64       \n 19  total_visits_smoothed_covid_y      113 non-null    float64       \n 20  total_visits_smoothed_influenza_y  113 non-null    float64       \n 21  total_visits_smoothed_rsv_y        113 non-null    float64       \n 22  high_visits_covid                  113 non-null    int32         \n 23  high_visits_influenza              113 non-null    int32         \n 24  high_visits_rsv                    113 non-null    int32         \n 25  date                               113 non-null    datetime64[ns]\n 26  avg_co                             113 non-null    float64       \n 27  avg_no2                            113 non-null    float64       \n 28  avg_o3                             113 non-null    float64       \n 29  avg_so2                            113 non-null    float64       \n 30  avg_pm2_5                          113 non-null    float64       \n 31  avg_pm10                           113 non-null    float64       \n 32  avg_us_aqi                         113 non-null    float64       \n 33  high_pollution_events              113 non-null    int64         \ndtypes: datetime64[ns](2), float64(15), int32(9), int64(1), object(7)\nmemory usage: 26.2+ KB\n"
          ]
        },
        {
          "output_type": "execute_result",
          "data": {
            "text/html": "<div>\n<style scoped>\n    .dataframe tbody tr th:only-of-type {\n        vertical-align: middle;\n    }\n\n    .dataframe tbody tr th {\n        vertical-align: top;\n    }\n\n    .dataframe thead th {\n        text-align: right;\n    }\n</style>\n<table border=\"1\" class=\"dataframe\">\n  <thead>\n    <tr style=\"text-align: right;\">\n      <th></th>\n      <th>Location</th>\n      <th>ed_trends_covid_x</th>\n      <th>ed_trends_influenza_x</th>\n      <th>ed_trends_rsv_x</th>\n      <th>week_end</th>\n      <th>total_visits_covid_x</th>\n      <th>total_visits_influenza_x</th>\n      <th>total_visits_rsv_x</th>\n      <th>total_visits_smoothed_combined_x</th>\n      <th>total_visits_smoothed_covid_x</th>\n      <th>...</th>\n      <th>high_visits_rsv</th>\n      <th>date</th>\n      <th>avg_co</th>\n      <th>avg_no2</th>\n      <th>avg_o3</th>\n      <th>avg_so2</th>\n      <th>avg_pm2_5</th>\n      <th>avg_pm10</th>\n      <th>avg_us_aqi</th>\n      <th>high_pollution_events</th>\n    </tr>\n  </thead>\n  <tbody>\n    <tr>\n      <th>0</th>\n      <td>Boston</td>\n      <td>Decreasing</td>\n      <td>Decreasing</td>\n      <td>Decreasing</td>\n      <td>2023-02-04</td>\n      <td>1929750</td>\n      <td>310000</td>\n      <td>85250</td>\n      <td>2201000.0</td>\n      <td>1922000.0</td>\n      <td>...</td>\n      <td>1</td>\n      <td>2023-02-04</td>\n      <td>254.93</td>\n      <td>5.88</td>\n      <td>70.90</td>\n      <td>1.10</td>\n      <td>0.83</td>\n      <td>1.16</td>\n      <td>88.0</td>\n      <td>13</td>\n    </tr>\n    <tr>\n      <th>1</th>\n      <td>Boston</td>\n      <td>Decreasing</td>\n      <td>Decreasing</td>\n      <td>Decreasing</td>\n      <td>2023-02-11</td>\n      <td>1751500</td>\n      <td>255750</td>\n      <td>69750</td>\n      <td>2053750.0</td>\n      <td>1774750.0</td>\n      <td>...</td>\n      <td>1</td>\n      <td>2023-02-11</td>\n      <td>300.13</td>\n      <td>13.02</td>\n      <td>61.63</td>\n      <td>2.18</td>\n      <td>1.77</td>\n      <td>2.45</td>\n      <td>80.0</td>\n      <td>0</td>\n    </tr>\n    <tr>\n      <th>2</th>\n      <td>Boston</td>\n      <td>Decreasing</td>\n      <td>Decreasing</td>\n      <td>Decreasing</td>\n      <td>2023-02-18</td>\n      <td>1596500</td>\n      <td>193750</td>\n      <td>54250</td>\n      <td>1883250.0</td>\n      <td>1573250.0</td>\n      <td>...</td>\n      <td>1</td>\n      <td>2023-02-18</td>\n      <td>282.88</td>\n      <td>12.19</td>\n      <td>72.58</td>\n      <td>3.16</td>\n      <td>2.09</td>\n      <td>2.79</td>\n      <td>99.0</td>\n      <td>15</td>\n    </tr>\n    <tr>\n      <th>3</th>\n      <td>Boston</td>\n      <td>Decreasing</td>\n      <td>Decreasing</td>\n      <td>No Change</td>\n      <td>2023-02-25</td>\n      <td>1340750</td>\n      <td>193750</td>\n      <td>54250</td>\n      <td>1604250.0</td>\n      <td>1325250.0</td>\n      <td>...</td>\n      <td>1</td>\n      <td>2023-02-25</td>\n      <td>343.95</td>\n      <td>22.45</td>\n      <td>63.05</td>\n      <td>4.32</td>\n      <td>5.84</td>\n      <td>7.12</td>\n      <td>80.0</td>\n      <td>8</td>\n    </tr>\n    <tr>\n      <th>4</th>\n      <td>Boston</td>\n      <td>Decreasing</td>\n      <td>Decreasing</td>\n      <td>Decreasing</td>\n      <td>2023-03-04</td>\n      <td>1085000</td>\n      <td>108500</td>\n      <td>93000</td>\n      <td>1325250.0</td>\n      <td>1116000.0</td>\n      <td>...</td>\n      <td>1</td>\n      <td>2023-03-04</td>\n      <td>250.76</td>\n      <td>5.39</td>\n      <td>93.13</td>\n      <td>0.94</td>\n      <td>1.26</td>\n      <td>1.56</td>\n      <td>145.0</td>\n      <td>18</td>\n    </tr>\n  </tbody>\n</table>\n<p>5 rows × 34 columns</p>\n</div>",
            "text/plain": "  Location ed_trends_covid_x ed_trends_influenza_x ed_trends_rsv_x   week_end  \\\n0   Boston        Decreasing            Decreasing      Decreasing 2023-02-04   \n1   Boston        Decreasing            Decreasing      Decreasing 2023-02-11   \n2   Boston        Decreasing            Decreasing      Decreasing 2023-02-18   \n3   Boston        Decreasing            Decreasing       No Change 2023-02-25   \n4   Boston        Decreasing            Decreasing      Decreasing 2023-03-04   \n\n   total_visits_covid_x  total_visits_influenza_x  total_visits_rsv_x  \\\n0               1929750                    310000               85250   \n1               1751500                    255750               69750   \n2               1596500                    193750               54250   \n3               1340750                    193750               54250   \n4               1085000                    108500               93000   \n\n   total_visits_smoothed_combined_x  total_visits_smoothed_covid_x  ...  \\\n0                         2201000.0                      1922000.0  ...   \n1                         2053750.0                      1774750.0  ...   \n2                         1883250.0                      1573250.0  ...   \n3                         1604250.0                      1325250.0  ...   \n4                         1325250.0                      1116000.0  ...   \n\n   high_visits_rsv       date  avg_co avg_no2 avg_o3  avg_so2  avg_pm2_5  \\\n0                1 2023-02-04  254.93    5.88  70.90     1.10       0.83   \n1                1 2023-02-11  300.13   13.02  61.63     2.18       1.77   \n2                1 2023-02-18  282.88   12.19  72.58     3.16       2.09   \n3                1 2023-02-25  343.95   22.45  63.05     4.32       5.84   \n4                1 2023-03-04  250.76    5.39  93.13     0.94       1.26   \n\n   avg_pm10  avg_us_aqi  high_pollution_events  \n0      1.16        88.0                     13  \n1      2.45        80.0                      0  \n2      2.79        99.0                     15  \n3      7.12        80.0                      8  \n4      1.56       145.0                     18  \n\n[5 rows x 34 columns]"
          },
          "execution_count": 25,
          "metadata": {}
        }
      ],
      "metadata": {},
      "source": [
        "#Boston final \n",
        "\n",
        "# Step 1: Merge Boston air quality datasets\n",
        "# Merge b_pollutants with b_aqi and b_h_pol_events on 'date'\n",
        "boston_air_quality = b_pollutants.merge(b_aqi, on='date', how='left')\n",
        "boston_air_quality = boston_air_quality.merge(b_h_pol_events, on='date', how='left')\n",
        "\n",
        "# Step 2: Merge hospitalization datasets\n",
        "# Merge processed respiratory and high visit events on 'Location' and 'week_end'\n",
        "boston_hospitalization = b_pro_res.merge(b_h_visit_events, on=['Location', 'week_end'], how='left')\n",
        "\n",
        "# Step 3: Prepare date columns for joining\n",
        "boston_air_quality['date'] = pd.to_datetime(boston_air_quality['date'])\n",
        "boston_hospitalization['week_end'] = pd.to_datetime(boston_hospitalization['week_end'])\n",
        "\n",
        "# Step 4: Merge air quality and hospitalization data\n",
        "# Use asof merge because pollution is daily, hospitalization is weekly\n",
        "boston_final = pd.merge_asof(\n",
        "    boston_hospitalization.sort_values('week_end'),\n",
        "    boston_air_quality.sort_values('date'),\n",
        "    left_on='week_end',\n",
        "    right_on='date',\n",
        "    direction='backward'\n",
        ")\n",
        "\n",
        "boston_final.info()\n",
        "boston_final.head()"
      ]
    },
    {
      "cell_type": "code",
      "execution_count": 27,
      "outputs": [
        {
          "output_type": "stream",
          "name": "stdout",
          "text": [
            "<class 'pandas.core.frame.DataFrame'>\nRangeIndex: 113 entries, 0 to 112\nData columns (total 20 columns):\n #   Column                           Non-Null Count  Dtype         \n---  ------                           --------------  -----         \n 0   Location                         113 non-null    object        \n 1   ed_trends_influenza              113 non-null    object        \n 2   ed_trends_rsv                    113 non-null    object        \n 3   week_end                         113 non-null    datetime64[ns]\n 4   total_visits_influenza           113 non-null    int32         \n 5   total_visits_rsv                 113 non-null    int32         \n 6   total_visits_smoothed_combined   87 non-null     float64       \n 7   total_visits_smoothed_influenza  113 non-null    float64       \n 8   total_visits_smoothed_rsv        113 non-null    float64       \n 9   high_visits_influenza            113 non-null    int32         \n 10  high_visits_rsv                  113 non-null    int32         \n 11  date                             113 non-null    datetime64[ns]\n 12  avg_co                           113 non-null    float64       \n 13  avg_no2                          113 non-null    float64       \n 14  avg_o3                           113 non-null    float64       \n 15  avg_so2                          113 non-null    float64       \n 16  avg_pm2_5                        113 non-null    float64       \n 17  avg_pm10                         113 non-null    float64       \n 18  avg_us_aqi                       113 non-null    float64       \n 19  high_pollution_events            113 non-null    int64         \ndtypes: datetime64[ns](2), float64(10), int32(4), int64(1), object(3)\nmemory usage: 16.0+ KB\n"
          ]
        },
        {
          "output_type": "execute_result",
          "data": {
            "text/html": "<div>\n<style scoped>\n    .dataframe tbody tr th:only-of-type {\n        vertical-align: middle;\n    }\n\n    .dataframe tbody tr th {\n        vertical-align: top;\n    }\n\n    .dataframe thead th {\n        text-align: right;\n    }\n</style>\n<table border=\"1\" class=\"dataframe\">\n  <thead>\n    <tr style=\"text-align: right;\">\n      <th></th>\n      <th>Location</th>\n      <th>ed_trends_influenza</th>\n      <th>ed_trends_rsv</th>\n      <th>week_end</th>\n      <th>total_visits_influenza</th>\n      <th>total_visits_rsv</th>\n      <th>total_visits_smoothed_combined</th>\n      <th>total_visits_smoothed_influenza</th>\n      <th>total_visits_smoothed_rsv</th>\n      <th>high_visits_influenza</th>\n      <th>high_visits_rsv</th>\n      <th>date</th>\n      <th>avg_co</th>\n      <th>avg_no2</th>\n      <th>avg_o3</th>\n      <th>avg_so2</th>\n      <th>avg_pm2_5</th>\n      <th>avg_pm10</th>\n      <th>avg_us_aqi</th>\n      <th>high_pollution_events</th>\n    </tr>\n  </thead>\n  <tbody>\n    <tr>\n      <th>0</th>\n      <td>Boston</td>\n      <td>Decreasing</td>\n      <td>Decreasing</td>\n      <td>2023-02-04</td>\n      <td>310000</td>\n      <td>85250</td>\n      <td>2201000.0</td>\n      <td>286750.0</td>\n      <td>77500.0</td>\n      <td>0</td>\n      <td>1</td>\n      <td>2023-02-04</td>\n      <td>254.93</td>\n      <td>5.88</td>\n      <td>70.90</td>\n      <td>1.10</td>\n      <td>0.83</td>\n      <td>1.16</td>\n      <td>88.0</td>\n      <td>13</td>\n    </tr>\n    <tr>\n      <th>1</th>\n      <td>Boston</td>\n      <td>Decreasing</td>\n      <td>Decreasing</td>\n      <td>2023-02-11</td>\n      <td>255750</td>\n      <td>69750</td>\n      <td>2053750.0</td>\n      <td>255750.0</td>\n      <td>69750.0</td>\n      <td>0</td>\n      <td>1</td>\n      <td>2023-02-11</td>\n      <td>300.13</td>\n      <td>13.02</td>\n      <td>61.63</td>\n      <td>2.18</td>\n      <td>1.77</td>\n      <td>2.45</td>\n      <td>80.0</td>\n      <td>0</td>\n    </tr>\n    <tr>\n      <th>2</th>\n      <td>Boston</td>\n      <td>Decreasing</td>\n      <td>Decreasing</td>\n      <td>2023-02-18</td>\n      <td>193750</td>\n      <td>54250</td>\n      <td>1883250.0</td>\n      <td>217000.0</td>\n      <td>62000.0</td>\n      <td>0</td>\n      <td>1</td>\n      <td>2023-02-18</td>\n      <td>282.88</td>\n      <td>12.19</td>\n      <td>72.58</td>\n      <td>3.16</td>\n      <td>2.09</td>\n      <td>2.79</td>\n      <td>99.0</td>\n      <td>15</td>\n    </tr>\n    <tr>\n      <th>3</th>\n      <td>Boston</td>\n      <td>Decreasing</td>\n      <td>No Change</td>\n      <td>2023-02-25</td>\n      <td>193750</td>\n      <td>54250</td>\n      <td>1604250.0</td>\n      <td>178250.0</td>\n      <td>62000.0</td>\n      <td>0</td>\n      <td>1</td>\n      <td>2023-02-25</td>\n      <td>343.95</td>\n      <td>22.45</td>\n      <td>63.05</td>\n      <td>4.32</td>\n      <td>5.84</td>\n      <td>7.12</td>\n      <td>80.0</td>\n      <td>8</td>\n    </tr>\n    <tr>\n      <th>4</th>\n      <td>Boston</td>\n      <td>Decreasing</td>\n      <td>Decreasing</td>\n      <td>2023-03-04</td>\n      <td>108500</td>\n      <td>93000</td>\n      <td>1325250.0</td>\n      <td>139500.0</td>\n      <td>54250.0</td>\n      <td>0</td>\n      <td>1</td>\n      <td>2023-03-04</td>\n      <td>250.76</td>\n      <td>5.39</td>\n      <td>93.13</td>\n      <td>0.94</td>\n      <td>1.26</td>\n      <td>1.56</td>\n      <td>145.0</td>\n      <td>18</td>\n    </tr>\n  </tbody>\n</table>\n</div>",
            "text/plain": "  Location ed_trends_influenza ed_trends_rsv   week_end  \\\n0   Boston          Decreasing    Decreasing 2023-02-04   \n1   Boston          Decreasing    Decreasing 2023-02-11   \n2   Boston          Decreasing    Decreasing 2023-02-18   \n3   Boston          Decreasing     No Change 2023-02-25   \n4   Boston          Decreasing    Decreasing 2023-03-04   \n\n   total_visits_influenza  total_visits_rsv  total_visits_smoothed_combined  \\\n0                  310000             85250                       2201000.0   \n1                  255750             69750                       2053750.0   \n2                  193750             54250                       1883250.0   \n3                  193750             54250                       1604250.0   \n4                  108500             93000                       1325250.0   \n\n   total_visits_smoothed_influenza  total_visits_smoothed_rsv  \\\n0                         286750.0                    77500.0   \n1                         255750.0                    69750.0   \n2                         217000.0                    62000.0   \n3                         178250.0                    62000.0   \n4                         139500.0                    54250.0   \n\n   high_visits_influenza  high_visits_rsv       date  avg_co  avg_no2  avg_o3  \\\n0                      0                1 2023-02-04  254.93     5.88   70.90   \n1                      0                1 2023-02-11  300.13    13.02   61.63   \n2                      0                1 2023-02-18  282.88    12.19   72.58   \n3                      0                1 2023-02-25  343.95    22.45   63.05   \n4                      0                1 2023-03-04  250.76     5.39   93.13   \n\n   avg_so2  avg_pm2_5  avg_pm10  avg_us_aqi  high_pollution_events  \n0     1.10       0.83      1.16        88.0                     13  \n1     2.18       1.77      2.45        80.0                      0  \n2     3.16       2.09      2.79        99.0                     15  \n3     4.32       5.84      7.12        80.0                      8  \n4     0.94       1.26      1.56       145.0                     18  "
          },
          "execution_count": 27,
          "metadata": {}
        }
      ],
      "metadata": {},
      "source": [
        "# clean boston_final \n",
        "\n",
        "# List of COVID columns to drop (both x and y)\n",
        "covid_columns_to_drop = [\n",
        "    'ed_trends_covid_x', 'ed_trends_covid_y',\n",
        "    'total_visits_covid_x', 'total_visits_covid_y',\n",
        "    'total_visits_smoothed_covid_x', 'total_visits_smoothed_covid_y',\n",
        "    'high_visits_covid'\n",
        "]\n",
        "\n",
        "# Drop all covid related columns\n",
        "boston_final_cleaned = boston_final.drop(columns=covid_columns_to_drop)\n",
        "\n",
        "# Now drop _y columns (since we keep _x version)\n",
        "columns_to_drop = [col for col in boston_final_cleaned.columns if col.endswith('_y')]\n",
        "\n",
        "boston_final_cleaned = boston_final_cleaned.drop(columns=columns_to_drop)\n",
        "\n",
        "# Now rename _x columns to normal names\n",
        "boston_final_cleaned.columns = [col.replace('_x', '') for col in boston_final_cleaned.columns]\n",
        "\n",
        "boston_final_cleaned.info()\n",
        "boston_final_cleaned.head()"
      ]
    },
    {
      "cell_type": "code",
      "execution_count": 28,
      "outputs": [],
      "metadata": {},
      "source": [
        "boston_final_cleaned.to_parquet('Boston_Model_Data.parquet')"
      ]
    },
    {
      "cell_type": "code",
      "execution_count": 29,
      "outputs": [
        {
          "output_type": "stream",
          "name": "stdout",
          "text": [
            "<class 'pandas.core.frame.DataFrame'>\nRangeIndex: 113 entries, 0 to 112\nData columns (total 34 columns):\n #   Column                             Non-Null Count  Dtype         \n---  ------                             --------------  -----         \n 0   week_end                           113 non-null    datetime64[ns]\n 1   ed_trends_covid_x                  113 non-null    object        \n 2   ed_trends_influenza_x              113 non-null    object        \n 3   ed_trends_rsv_x                    113 non-null    object        \n 4   total_visits_covid_x               113 non-null    int32         \n 5   total_visits_influenza_x           113 non-null    int32         \n 6   total_visits_rsv_x                 113 non-null    int32         \n 7   total_visits_smoothed_combined_x   87 non-null     float64       \n 8   total_visits_smoothed_covid_x      113 non-null    float64       \n 9   total_visits_smoothed_influenza_x  113 non-null    float64       \n 10  total_visits_smoothed_rsv_x        113 non-null    float64       \n 11  Location                           113 non-null    object        \n 12  ed_trends_covid_y                  113 non-null    object        \n 13  ed_trends_influenza_y              113 non-null    object        \n 14  ed_trends_rsv_y                    113 non-null    object        \n 15  total_visits_covid_y               113 non-null    int32         \n 16  total_visits_influenza_y           113 non-null    int32         \n 17  total_visits_rsv_y                 113 non-null    int32         \n 18  total_visits_smoothed_combined_y   87 non-null     float64       \n 19  total_visits_smoothed_covid_y      113 non-null    float64       \n 20  total_visits_smoothed_influenza_y  113 non-null    float64       \n 21  total_visits_smoothed_rsv_y        113 non-null    float64       \n 22  high_visits_covid                  113 non-null    int32         \n 23  high_visits_influenza              113 non-null    int32         \n 24  high_visits_rsv                    113 non-null    int32         \n 25  date                               113 non-null    datetime64[ns]\n 26  avg_co                             113 non-null    float64       \n 27  avg_no2                            113 non-null    float64       \n 28  avg_o3                             113 non-null    float64       \n 29  avg_so2                            113 non-null    float64       \n 30  avg_pm2_5                          113 non-null    float64       \n 31  avg_pm10                           113 non-null    float64       \n 32  avg_us_aqi                         113 non-null    float64       \n 33  high_pollution_events              113 non-null    int64         \ndtypes: datetime64[ns](2), float64(15), int32(9), int64(1), object(7)\nmemory usage: 26.2+ KB\n"
          ]
        },
        {
          "output_type": "execute_result",
          "data": {
            "text/html": "<div>\n<style scoped>\n    .dataframe tbody tr th:only-of-type {\n        vertical-align: middle;\n    }\n\n    .dataframe tbody tr th {\n        vertical-align: top;\n    }\n\n    .dataframe thead th {\n        text-align: right;\n    }\n</style>\n<table border=\"1\" class=\"dataframe\">\n  <thead>\n    <tr style=\"text-align: right;\">\n      <th></th>\n      <th>week_end</th>\n      <th>ed_trends_covid_x</th>\n      <th>ed_trends_influenza_x</th>\n      <th>ed_trends_rsv_x</th>\n      <th>total_visits_covid_x</th>\n      <th>total_visits_influenza_x</th>\n      <th>total_visits_rsv_x</th>\n      <th>total_visits_smoothed_combined_x</th>\n      <th>total_visits_smoothed_covid_x</th>\n      <th>total_visits_smoothed_influenza_x</th>\n      <th>...</th>\n      <th>high_visits_rsv</th>\n      <th>date</th>\n      <th>avg_co</th>\n      <th>avg_no2</th>\n      <th>avg_o3</th>\n      <th>avg_so2</th>\n      <th>avg_pm2_5</th>\n      <th>avg_pm10</th>\n      <th>avg_us_aqi</th>\n      <th>high_pollution_events</th>\n    </tr>\n  </thead>\n  <tbody>\n    <tr>\n      <th>0</th>\n      <td>2023-02-04</td>\n      <td>No Change</td>\n      <td>Decreasing</td>\n      <td>Decreasing</td>\n      <td>9818232</td>\n      <td>2805209</td>\n      <td>951767</td>\n      <td>12122511.0</td>\n      <td>8866465.0</td>\n      <td>2755116.0</td>\n      <td>...</td>\n      <td>1</td>\n      <td>2023-02-04</td>\n      <td>488.44</td>\n      <td>34.04</td>\n      <td>28.44</td>\n      <td>4.84</td>\n      <td>18.18</td>\n      <td>22.98</td>\n      <td>64.0</td>\n      <td>1</td>\n    </tr>\n    <tr>\n      <th>1</th>\n      <td>2023-02-11</td>\n      <td>No Change</td>\n      <td>Decreasing</td>\n      <td>Decreasing</td>\n      <td>9116930</td>\n      <td>2905395</td>\n      <td>1051953</td>\n      <td>12122511.0</td>\n      <td>9066837.0</td>\n      <td>2604837.0</td>\n      <td>...</td>\n      <td>1</td>\n      <td>2023-02-11</td>\n      <td>276.35</td>\n      <td>11.34</td>\n      <td>69.74</td>\n      <td>2.59</td>\n      <td>5.59</td>\n      <td>6.46</td>\n      <td>88.0</td>\n      <td>12</td>\n    </tr>\n    <tr>\n      <th>2</th>\n      <td>2023-02-18</td>\n      <td>Decreasing</td>\n      <td>Decreasing</td>\n      <td>Decreasing</td>\n      <td>7914697</td>\n      <td>2103907</td>\n      <td>901674</td>\n      <td>11621581.0</td>\n      <td>8565906.0</td>\n      <td>2304279.0</td>\n      <td>...</td>\n      <td>1</td>\n      <td>2023-02-18</td>\n      <td>321.83</td>\n      <td>24.24</td>\n      <td>46.76</td>\n      <td>4.93</td>\n      <td>6.68</td>\n      <td>8.85</td>\n      <td>54.0</td>\n      <td>4</td>\n    </tr>\n    <tr>\n      <th>3</th>\n      <td>2023-02-25</td>\n      <td>Decreasing</td>\n      <td>Decreasing</td>\n      <td>No Change</td>\n      <td>7513953</td>\n      <td>2204093</td>\n      <td>801488</td>\n      <td>10068697.0</td>\n      <td>7313581.0</td>\n      <td>1903535.0</td>\n      <td>...</td>\n      <td>1</td>\n      <td>2023-02-25</td>\n      <td>276.90</td>\n      <td>17.89</td>\n      <td>40.51</td>\n      <td>5.07</td>\n      <td>12.54</td>\n      <td>30.96</td>\n      <td>53.0</td>\n      <td>0</td>\n    </tr>\n    <tr>\n      <th>4</th>\n      <td>2023-03-04</td>\n      <td>Decreasing</td>\n      <td>Decreasing</td>\n      <td>No Change</td>\n      <td>5860883</td>\n      <td>1252326</td>\n      <td>551023</td>\n      <td>8265348.0</td>\n      <td>5961069.0</td>\n      <td>1552884.0</td>\n      <td>...</td>\n      <td>1</td>\n      <td>2023-03-04</td>\n      <td>431.84</td>\n      <td>31.36</td>\n      <td>44.54</td>\n      <td>5.94</td>\n      <td>14.74</td>\n      <td>21.33</td>\n      <td>88.0</td>\n      <td>7</td>\n    </tr>\n  </tbody>\n</table>\n<p>5 rows × 34 columns</p>\n</div>",
            "text/plain": "    week_end ed_trends_covid_x ed_trends_influenza_x ed_trends_rsv_x  \\\n0 2023-02-04         No Change            Decreasing      Decreasing   \n1 2023-02-11         No Change            Decreasing      Decreasing   \n2 2023-02-18        Decreasing            Decreasing      Decreasing   \n3 2023-02-25        Decreasing            Decreasing       No Change   \n4 2023-03-04        Decreasing            Decreasing       No Change   \n\n   total_visits_covid_x  total_visits_influenza_x  total_visits_rsv_x  \\\n0               9818232                   2805209              951767   \n1               9116930                   2905395             1051953   \n2               7914697                   2103907              901674   \n3               7513953                   2204093              801488   \n4               5860883                   1252326              551023   \n\n   total_visits_smoothed_combined_x  total_visits_smoothed_covid_x  \\\n0                        12122511.0                      8866465.0   \n1                        12122511.0                      9066837.0   \n2                        11621581.0                      8565906.0   \n3                        10068697.0                      7313581.0   \n4                         8265348.0                      5961069.0   \n\n   total_visits_smoothed_influenza_x  ...  high_visits_rsv       date  avg_co  \\\n0                          2755116.0  ...                1 2023-02-04  488.44   \n1                          2604837.0  ...                1 2023-02-11  276.35   \n2                          2304279.0  ...                1 2023-02-18  321.83   \n3                          1903535.0  ...                1 2023-02-25  276.90   \n4                          1552884.0  ...                1 2023-03-04  431.84   \n\n  avg_no2 avg_o3  avg_so2  avg_pm2_5  avg_pm10  avg_us_aqi  \\\n0   34.04  28.44     4.84      18.18     22.98        64.0   \n1   11.34  69.74     2.59       5.59      6.46        88.0   \n2   24.24  46.76     4.93       6.68      8.85        54.0   \n3   17.89  40.51     5.07      12.54     30.96        53.0   \n4   31.36  44.54     5.94      14.74     21.33        88.0   \n\n   high_pollution_events  \n0                      1  \n1                     12  \n2                      4  \n3                      0  \n4                      7  \n\n[5 rows x 34 columns]"
          },
          "execution_count": 29,
          "metadata": {}
        }
      ],
      "metadata": {},
      "source": [
        "# Hosuton Final\n",
        "\n",
        "# Step 1: Merge Boston air quality datasets\n",
        "# Merge h_pollutants with h_aqi and h_h_pol_events on 'date'\n",
        "houston_air_quality = h_pollutants.merge(h_aqi, on='date', how='left')\n",
        "houston_air_quality = houston_air_quality.merge(h_h_pol_events, on='date', how='left')\n",
        "\n",
        "# Step 2: Merge hospitalization datasets\n",
        "# Merge processed respiratory and high visit events on 'Location' and 'week_end'\n",
        "houston_hospitalization = h_pro_res.merge(h_h_visit_events, on=['Location', 'week_end'], how='left')\n",
        "\n",
        "# Step 3: Prepare date columns for joining\n",
        "houston_air_quality['date'] = pd.to_datetime(houston_air_quality['date'])\n",
        "houston_hospitalization['week_end'] = pd.to_datetime(houston_hospitalization['week_end'])\n",
        "\n",
        "# Step 4: Merge air quality and hospitalization data\n",
        "# Use asof merge because pollution is daily, hospitalization is weekly\n",
        "houston_final = pd.merge_asof(\n",
        "    houston_hospitalization.sort_values('week_end'),\n",
        "    houston_air_quality.sort_values('date'),\n",
        "    left_on='week_end',\n",
        "    right_on='date',\n",
        "    direction='backward'\n",
        ")\n",
        "\n",
        "houston_final.info()\n",
        "houston_final.head()"
      ]
    },
    {
      "cell_type": "code",
      "execution_count": 30,
      "outputs": [
        {
          "output_type": "stream",
          "name": "stdout",
          "text": [
            "<class 'pandas.core.frame.DataFrame'>\nRangeIndex: 113 entries, 0 to 112\nData columns (total 20 columns):\n #   Column                           Non-Null Count  Dtype         \n---  ------                           --------------  -----         \n 0   week_end                         113 non-null    datetime64[ns]\n 1   ed_trends_influenza              113 non-null    object        \n 2   ed_trends_rsv                    113 non-null    object        \n 3   total_visits_influenza           113 non-null    int32         \n 4   total_visits_rsv                 113 non-null    int32         \n 5   total_visits_smoothed_combined   87 non-null     float64       \n 6   total_visits_smoothed_influenza  113 non-null    float64       \n 7   total_visits_smoothed_rsv        113 non-null    float64       \n 8   Location                         113 non-null    object        \n 9   high_visits_influenza            113 non-null    int32         \n 10  high_visits_rsv                  113 non-null    int32         \n 11  date                             113 non-null    datetime64[ns]\n 12  avg_co                           113 non-null    float64       \n 13  avg_no2                          113 non-null    float64       \n 14  avg_o3                           113 non-null    float64       \n 15  avg_so2                          113 non-null    float64       \n 16  avg_pm2_5                        113 non-null    float64       \n 17  avg_pm10                         113 non-null    float64       \n 18  avg_us_aqi                       113 non-null    float64       \n 19  high_pollution_events            113 non-null    int64         \ndtypes: datetime64[ns](2), float64(10), int32(4), int64(1), object(3)\nmemory usage: 16.0+ KB\n"
          ]
        },
        {
          "output_type": "execute_result",
          "data": {
            "text/html": "<div>\n<style scoped>\n    .dataframe tbody tr th:only-of-type {\n        vertical-align: middle;\n    }\n\n    .dataframe tbody tr th {\n        vertical-align: top;\n    }\n\n    .dataframe thead th {\n        text-align: right;\n    }\n</style>\n<table border=\"1\" class=\"dataframe\">\n  <thead>\n    <tr style=\"text-align: right;\">\n      <th></th>\n      <th>week_end</th>\n      <th>ed_trends_influenza</th>\n      <th>ed_trends_rsv</th>\n      <th>total_visits_influenza</th>\n      <th>total_visits_rsv</th>\n      <th>total_visits_smoothed_combined</th>\n      <th>total_visits_smoothed_influenza</th>\n      <th>total_visits_smoothed_rsv</th>\n      <th>Location</th>\n      <th>high_visits_influenza</th>\n      <th>high_visits_rsv</th>\n      <th>date</th>\n      <th>avg_co</th>\n      <th>avg_no2</th>\n      <th>avg_o3</th>\n      <th>avg_so2</th>\n      <th>avg_pm2_5</th>\n      <th>avg_pm10</th>\n      <th>avg_us_aqi</th>\n      <th>high_pollution_events</th>\n    </tr>\n  </thead>\n  <tbody>\n    <tr>\n      <th>0</th>\n      <td>2023-02-04</td>\n      <td>Decreasing</td>\n      <td>Decreasing</td>\n      <td>2805209</td>\n      <td>951767</td>\n      <td>12122511.0</td>\n      <td>2755116.0</td>\n      <td>1001860.0</td>\n      <td>Houston</td>\n      <td>1</td>\n      <td>1</td>\n      <td>2023-02-04</td>\n      <td>488.44</td>\n      <td>34.04</td>\n      <td>28.44</td>\n      <td>4.84</td>\n      <td>18.18</td>\n      <td>22.98</td>\n      <td>64.0</td>\n      <td>1</td>\n    </tr>\n    <tr>\n      <th>1</th>\n      <td>2023-02-11</td>\n      <td>Decreasing</td>\n      <td>Decreasing</td>\n      <td>2905395</td>\n      <td>1051953</td>\n      <td>12122511.0</td>\n      <td>2604837.0</td>\n      <td>901674.0</td>\n      <td>Houston</td>\n      <td>1</td>\n      <td>1</td>\n      <td>2023-02-11</td>\n      <td>276.35</td>\n      <td>11.34</td>\n      <td>69.74</td>\n      <td>2.59</td>\n      <td>5.59</td>\n      <td>6.46</td>\n      <td>88.0</td>\n      <td>12</td>\n    </tr>\n    <tr>\n      <th>2</th>\n      <td>2023-02-18</td>\n      <td>Decreasing</td>\n      <td>Decreasing</td>\n      <td>2103907</td>\n      <td>901674</td>\n      <td>11621581.0</td>\n      <td>2304279.0</td>\n      <td>851581.0</td>\n      <td>Houston</td>\n      <td>1</td>\n      <td>1</td>\n      <td>2023-02-18</td>\n      <td>321.83</td>\n      <td>24.24</td>\n      <td>46.76</td>\n      <td>4.93</td>\n      <td>6.68</td>\n      <td>8.85</td>\n      <td>54.0</td>\n      <td>4</td>\n    </tr>\n    <tr>\n      <th>3</th>\n      <td>2023-02-25</td>\n      <td>Decreasing</td>\n      <td>No Change</td>\n      <td>2204093</td>\n      <td>801488</td>\n      <td>10068697.0</td>\n      <td>1903535.0</td>\n      <td>751395.0</td>\n      <td>Houston</td>\n      <td>1</td>\n      <td>1</td>\n      <td>2023-02-25</td>\n      <td>276.90</td>\n      <td>17.89</td>\n      <td>40.51</td>\n      <td>5.07</td>\n      <td>12.54</td>\n      <td>30.96</td>\n      <td>53.0</td>\n      <td>0</td>\n    </tr>\n    <tr>\n      <th>4</th>\n      <td>2023-03-04</td>\n      <td>Decreasing</td>\n      <td>No Change</td>\n      <td>1252326</td>\n      <td>551023</td>\n      <td>8265348.0</td>\n      <td>1552884.0</td>\n      <td>701302.0</td>\n      <td>Houston</td>\n      <td>1</td>\n      <td>1</td>\n      <td>2023-03-04</td>\n      <td>431.84</td>\n      <td>31.36</td>\n      <td>44.54</td>\n      <td>5.94</td>\n      <td>14.74</td>\n      <td>21.33</td>\n      <td>88.0</td>\n      <td>7</td>\n    </tr>\n  </tbody>\n</table>\n</div>",
            "text/plain": "    week_end ed_trends_influenza ed_trends_rsv  total_visits_influenza  \\\n0 2023-02-04          Decreasing    Decreasing                 2805209   \n1 2023-02-11          Decreasing    Decreasing                 2905395   \n2 2023-02-18          Decreasing    Decreasing                 2103907   \n3 2023-02-25          Decreasing     No Change                 2204093   \n4 2023-03-04          Decreasing     No Change                 1252326   \n\n   total_visits_rsv  total_visits_smoothed_combined  \\\n0            951767                      12122511.0   \n1           1051953                      12122511.0   \n2            901674                      11621581.0   \n3            801488                      10068697.0   \n4            551023                       8265348.0   \n\n   total_visits_smoothed_influenza  total_visits_smoothed_rsv Location  \\\n0                        2755116.0                  1001860.0  Houston   \n1                        2604837.0                   901674.0  Houston   \n2                        2304279.0                   851581.0  Houston   \n3                        1903535.0                   751395.0  Houston   \n4                        1552884.0                   701302.0  Houston   \n\n   high_visits_influenza  high_visits_rsv       date  avg_co  avg_no2  avg_o3  \\\n0                      1                1 2023-02-04  488.44    34.04   28.44   \n1                      1                1 2023-02-11  276.35    11.34   69.74   \n2                      1                1 2023-02-18  321.83    24.24   46.76   \n3                      1                1 2023-02-25  276.90    17.89   40.51   \n4                      1                1 2023-03-04  431.84    31.36   44.54   \n\n   avg_so2  avg_pm2_5  avg_pm10  avg_us_aqi  high_pollution_events  \n0     4.84      18.18     22.98        64.0                      1  \n1     2.59       5.59      6.46        88.0                     12  \n2     4.93       6.68      8.85        54.0                      4  \n3     5.07      12.54     30.96        53.0                      0  \n4     5.94      14.74     21.33        88.0                      7  "
          },
          "execution_count": 30,
          "metadata": {}
        }
      ],
      "metadata": {},
      "source": [
        "# clean houston_final \n",
        "\n",
        "# List of COVID columns to drop (both x and y)\n",
        "covid_columns_to_drop = [\n",
        "    'ed_trends_covid_x', 'ed_trends_covid_y',\n",
        "    'total_visits_covid_x', 'total_visits_covid_y',\n",
        "    'total_visits_smoothed_covid_x', 'total_visits_smoothed_covid_y',\n",
        "    'high_visits_covid'\n",
        "]\n",
        "\n",
        "# Drop all covid related columns\n",
        "houston_final_cleaned = houston_final.drop(columns=covid_columns_to_drop)\n",
        "\n",
        "# Now drop _y columns (since we keep _x version)\n",
        "columns_to_drop = [col for col in houston_final_cleaned.columns if col.endswith('_y')]\n",
        "\n",
        "houston_final_cleaned = houston_final_cleaned.drop(columns=columns_to_drop)\n",
        "\n",
        "# Now rename _x columns to normal names\n",
        "houston_final_cleaned.columns = [col.replace('_x', '') for col in houston_final_cleaned.columns]\n",
        "\n",
        "houston_final_cleaned.info()\n",
        "houston_final_cleaned.head()"
      ]
    },
    {
      "cell_type": "code",
      "execution_count": 31,
      "outputs": [],
      "metadata": {},
      "source": [
        "houston_final_cleaned.to_parquet('Houston_Model_Data.parquet')"
      ]
    }
  ]
}